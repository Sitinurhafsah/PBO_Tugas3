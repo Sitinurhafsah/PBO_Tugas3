{
  "nbformat": 4,
  "nbformat_minor": 0,
  "metadata": {
    "colab": {
      "provenance": [],
      "include_colab_link": true
    },
    "kernelspec": {
      "name": "python3",
      "display_name": "Python 3"
    },
    "language_info": {
      "name": "python"
    }
  },
  "cells": [
    {
      "cell_type": "markdown",
      "metadata": {
        "id": "view-in-github",
        "colab_type": "text"
      },
      "source": [
        "<a href=\"https://colab.research.google.com/github/Sitinurhafsah/PBO_Tugas3/blob/main/Tugas3.ipynb\" target=\"_parent\"><img src=\"https://colab.research.google.com/assets/colab-badge.svg\" alt=\"Open In Colab\"/></a>"
      ]
    },
    {
      "cell_type": "code",
      "execution_count": null,
      "metadata": {
        "colab": {
          "base_uri": "https://localhost:8080/"
        },
        "id": "dv-bXTi4ciiG",
        "outputId": "95c9cd49-4927-4694-baa7-32bc706bed00"
      },
      "outputs": [
        {
          "output_type": "stream",
          "name": "stdout",
          "text": [
            "Budi Details:\n",
            "Rambut : Ikal\n",
            "Warna : Hitam\n",
            "Michael Details:\n",
            "Rambut : Lurus\n",
            "Warna : Blonde\n"
          ]
        }
      ],
      "source": [
        "class Person :\n",
        "  def __init__ (self,rambut,warna):\n",
        "    self.rambut = rambut\n",
        "    self.warna = warna\n",
        "\n",
        "Budi = Person (\"Ikal\",\"Hitam\")\n",
        "Michael = Person (\"Lurus\",\"Blonde\")\n",
        "\n",
        "print ('Budi Details:')\n",
        "print ('Rambut :', Budi.rambut)\n",
        "print ('Warna :', Budi.warna)\n",
        "\n",
        "\n",
        "print ('Michael Details:')\n",
        "print ('Rambut :', Michael.rambut)\n",
        "print ('Warna :', Michael.warna)"
      ]
    }
  ]
}